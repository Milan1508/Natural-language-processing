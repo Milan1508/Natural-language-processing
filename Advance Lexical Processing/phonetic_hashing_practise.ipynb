{
 "cells": [
  {
   "cell_type": "code",
   "execution_count": 1,
   "metadata": {},
   "outputs": [],
   "source": [
    "def get_soundex(token):\n",
    "\n",
    "    token = token.upper()\n",
    "\n",
    "    soundex = \"\"\n",
    "\n",
    "    soundex += token[0]\n",
    "\n",
    "    dictionary = {\"BFPV\": \"1\", \"CGJKQSXZ\":\"2\", \"DT\":\"3\", \"L\":\"4\", \"MN\":\"5\", \"R\":\"6\", \"AEIOUHWY\":\".\"}\n",
    "\n",
    "    for char in token[1:]:\n",
    "        for key in dictionary.keys():\n",
    "            if char in key:\n",
    "                code = dictionary[key]\n",
    "                if code != '.':\n",
    "                    if code != soundex[-1]:\n",
    "                        soundex += code\n",
    "    \n",
    "    soundex = soundex[:4].ljust(4,\"0\")\n",
    "    return soundex"
   ]
  },
  {
   "cell_type": "code",
   "execution_count": 2,
   "metadata": {},
   "outputs": [
    {
     "name": "stdout",
     "output_type": "stream",
     "text": [
      "S300\n",
      "A261\n"
     ]
    }
   ],
   "source": [
    "print(get_soundex(\"STOUT\"))\n",
    "print(get_soundex(\"Ashcraft\"))"
   ]
  },
  {
   "cell_type": "code",
   "execution_count": 3,
   "metadata": {},
   "outputs": [
    {
     "name": "stdout",
     "output_type": "stream",
     "text": [
      "A264\n",
      "A264\n",
      "A264\n",
      "A264\n"
     ]
    }
   ],
   "source": [
    "print(get_soundex(\"Aggrawal\"))\n",
    "print(get_soundex(\"Agrawal\"))\n",
    "print(get_soundex(\"Aggarwal\"))\n",
    "print(get_soundex(\"Agarwal\"))"
   ]
  },
  {
   "cell_type": "code",
   "execution_count": null,
   "metadata": {},
   "outputs": [],
   "source": []
  }
 ],
 "metadata": {
  "kernelspec": {
   "display_name": "base",
   "language": "python",
   "name": "python3"
  },
  "language_info": {
   "codemirror_mode": {
    "name": "ipython",
    "version": 3
   },
   "file_extension": ".py",
   "mimetype": "text/x-python",
   "name": "python",
   "nbconvert_exporter": "python",
   "pygments_lexer": "ipython3",
   "version": "3.9.15"
  },
  "orig_nbformat": 4
 },
 "nbformat": 4,
 "nbformat_minor": 2
}
