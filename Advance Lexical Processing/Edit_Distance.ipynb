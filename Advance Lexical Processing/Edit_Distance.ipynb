{
 "cells": [
  {
   "cell_type": "code",
   "execution_count": 3,
   "metadata": {},
   "outputs": [],
   "source": [
    "def lev_distance(source = '', target = ''):\n",
    "    \"\"\" Make a levenshtein Distances Matrix\"\"\"\n",
    "\n",
    "    n1,n2 = len(source), len(target)\n",
    "\n",
    "    matrix = [[0 for i1 in range(n1+1 )] for i2 in range(n2+1)]\n",
    "\n",
    "    for i1 in range(1, n1+1):\n",
    "        matrix[0][i1] = i1\n",
    "\n",
    "    for i2 in range(1, n2+1):\n",
    "        matrix[i2][0] = i2\n",
    "\n",
    "\n",
    "    for i2 in range(1, n2+1):\n",
    "        for i1  in range(1,n1+1):\n",
    "\n",
    "            if(source[i1-1] == target[i2-1]):\n",
    "                value = matrix[i2-1][i1-1]   # 0 0 of matrix\n",
    "            else:\n",
    "                value = min(matrix[i2-1][i1-1] + 1,  ## Upper Diagonal\n",
    "                            matrix[i2][i1-1] + 1,   ## left \n",
    "                            matrix[i2-1][i1] + 1)    # top \n",
    "\n",
    "\n",
    "            matrix[i2][i1]  = value\n",
    "\n",
    "    return matrix[-1][-1]"
   ]
  },
  {
   "cell_type": "code",
   "execution_count": 4,
   "metadata": {},
   "outputs": [
    {
     "data": {
      "text/plain": [
       "2"
      ]
     },
     "execution_count": 4,
     "metadata": {},
     "output_type": "execute_result"
    }
   ],
   "source": [
    "lev_distance('cat','cta')"
   ]
  },
  {
   "cell_type": "code",
   "execution_count": 5,
   "metadata": {},
   "outputs": [],
   "source": [
    "from nltk.metrics.distance import edit_distance"
   ]
  },
  {
   "cell_type": "code",
   "execution_count": 6,
   "metadata": {},
   "outputs": [
    {
     "data": {
      "text/plain": [
       "2"
      ]
     },
     "execution_count": 6,
     "metadata": {},
     "output_type": "execute_result"
    }
   ],
   "source": [
    "edit_distance('cat', 'cta')"
   ]
  },
  {
   "cell_type": "code",
   "execution_count": 7,
   "metadata": {},
   "outputs": [
    {
     "data": {
      "text/plain": [
       "2"
      ]
     },
     "execution_count": 7,
     "metadata": {},
     "output_type": "execute_result"
    }
   ],
   "source": [
    "edit_distance(\"apple\", \"appel\")"
   ]
  },
  {
   "cell_type": "code",
   "execution_count": 8,
   "metadata": {},
   "outputs": [
    {
     "data": {
      "text/plain": [
       "1"
      ]
     },
     "execution_count": 8,
     "metadata": {},
     "output_type": "execute_result"
    }
   ],
   "source": [
    "edit_distance(\"apple\",\"appel\", transpositions=True)"
   ]
  },
  {
   "cell_type": "code",
   "execution_count": null,
   "metadata": {},
   "outputs": [],
   "source": []
  }
 ],
 "metadata": {
  "kernelspec": {
   "display_name": "base",
   "language": "python",
   "name": "python3"
  },
  "language_info": {
   "codemirror_mode": {
    "name": "ipython",
    "version": 3
   },
   "file_extension": ".py",
   "mimetype": "text/x-python",
   "name": "python",
   "nbconvert_exporter": "python",
   "pygments_lexer": "ipython3",
   "version": "3.9.15"
  },
  "orig_nbformat": 4
 },
 "nbformat": 4,
 "nbformat_minor": 2
}
